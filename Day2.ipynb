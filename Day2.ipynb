{
  "nbformat": 4,
  "nbformat_minor": 0,
  "metadata": {
    "colab": {
      "provenance": [],
      "toc_visible": true,
      "authorship_tag": "ABX9TyNwG8gocXpyF29fOX3s2STq",
      "include_colab_link": true
    },
    "kernelspec": {
      "name": "python3",
      "display_name": "Python 3"
    },
    "language_info": {
      "name": "python"
    }
  },
  "cells": [
    {
      "cell_type": "markdown",
      "metadata": {
        "id": "view-in-github",
        "colab_type": "text"
      },
      "source": [
        "<a href=\"https://colab.research.google.com/github/hbowden-arch/WSP_2024/blob/main/Day2.ipynb\" target=\"_parent\"><img src=\"https://colab.research.google.com/assets/colab-badge.svg\" alt=\"Open In Colab\"/></a>"
      ]
    },
    {
      "cell_type": "markdown",
      "source": [
        "# **Day 2: Searching for Supernovae**\n",
        "\n",
        "Big Questions:\n",
        "\n",
        "\n",
        "*   How do astronomers find supernovae out in the Universe?\n",
        "*   What can we learn about supernovae by observing them?\n",
        "*   What are the main types of supernovae?\n",
        "\n",
        "---"
      ],
      "metadata": {
        "id": "6vZULzq8zmda"
      }
    },
    {
      "cell_type": "markdown",
      "source": [
        "# Spotting Supernovae\n",
        "\n",
        "Time to explore a local survey! The Catalina Real-Time Transient Survey is a project that uses telescopes up on Mt. Lemmon to search the sky for objects called **transients**. While many things in the Universe change over very long periods of time, transients are astronomical phenomena that evolve rapidly over a period of hours to months, which includes supernovae!\n",
        "\n",
        "\n",
        "Take the next few minutes to visit http://nesssi.cacr.caltech.edu/catalina/current.html and scroll down to the section that says 'Supernova discoveries'.\n",
        "\n",
        "Choose any supernova from the list and record the date it was discovered (these are are written in a format called MJD, you can look up what this corresponds to in regular dates using Google). Also, go ahead and record the galaxy it was found in, its position (RA and Dec) and the SN ID.\n",
        "\n",
        "After you have recorded this information, click on the hyperlink in the SN ID column. You should then see a screen that looks like this:\n",
        "\n",
        "<div>\n",
        "<img src=\"https://drive.google.com/uc?export=view&id=1-E9TBJBngA2BTgMQE__aSWEl9iM3-SqM\" width=\"500\"/>\n",
        "</div>\n",
        "\n",
        "\n",
        "The first image is a new image of a galaxy (after the star went supernova). The middle image is an old image (before supernova). It is very likely that the two images look nearly identical to the eye! The third image is there to show you the difference between the two images and help you spot the supernova.\n",
        "\n",
        "Can you spot the supernova in the difference image? If not, it might be hard to spot. Try selecting a different supernova from the list.\n",
        "\n",
        "Once you've spotted your supernova, you can move your cursor over the image. The numbers in the box's at the bottom should change as you move your cursor. These are the coordinates on the sky of the pixel you are hovering over. They are measured in Right Ascension (RA) and Declination (Dec).\n",
        "\n",
        "Using your cursor, find the RA and Dec of your supernova. Does this match the values you saw in the table? If so, then congrats! You have found a supernova.\n",
        "\n",
        "\n",
        "\n",
        "---\n",
        "\n"
      ],
      "metadata": {
        "id": "SlrjaE2uFXpy"
      }
    },
    {
      "cell_type": "markdown",
      "source": [
        "Now go to the home page of the website (http://crts.caltech.edu/) and take a look at the image of the sky showing the transients the survey has found.\n",
        "\n",
        "**Questions:** Consider the table below the sky image.\n",
        "\n",
        "\n",
        "1.   How many supernovae has the survey observed in total?\n",
        "2.   What is another type of transient that they survey has observed?\n",
        "\n",
        "\n",
        "**Discussion point:** The transients on their map are not evently distributed across the sky. Why might some regions of the sky be difficult for the Catalina Sky Survey to find transients in?\n",
        "\n"
      ],
      "metadata": {
        "id": "JqZHrsh_LbgJ"
      }
    },
    {
      "cell_type": "markdown",
      "source": [
        "# What do they look like?\n",
        "\n",
        "When you consider an image like the ones you saw in the previous section, a supernova looks like a bright dot. This doesn't exactly give you a ton of information to work off of. If we want to truly understand supernovae we need more information.\n",
        "\n",
        "**Discuss:** Without looking ahead, use what you already know about stars and supernovae to brainstorm a few properties of supernovae that we might be able measure."
      ],
      "metadata": {
        "id": "UvzoNo8kOBei"
      }
    },
    {
      "cell_type": "markdown",
      "source": [
        "# Spectra\n",
        "\n",
        "<div>\n",
        "<img src=\"https://drive.google.com/uc?export=view&id=1YPeJZdfHRbpSCuPcx1dEoY3cDl83rS7a\" width=\"500\"/>\n",
        "</div>\n",
        "\n",
        "The images we have looked at before were in black and white. We could compare how bright the pixels in the image were but not their colors. In reality, the light emitted by supernovae is many wavelength. Like looking at a beam of sunlight through a prism, we can use an instrument called a spectrometer to break the light from our supernova into all its component colors.\n",
        "\n",
        "Below is an example ***spectrum*** for a supernova.\n",
        "\n",
        "The x-axis of the top plot shows the wavelength of light, while the y-axis shows how bright the supernova is in those different wavelengths. The different lines show the spectrum as observed on different days.\n",
        "\n",
        "\n",
        "<div>\n",
        "<img src=\"https://drive.google.com/uc?export=view&id=166aScLkCK4lUa_DQEkrjVp7ziAx3f3hw\" width=\"500\"/>\n",
        "</div>\n",
        "\n",
        "\n",
        "**Discuss**: Describe one trend you can observe in the plot. What does this tell you about the color of this supernova?"
      ],
      "metadata": {
        "id": "09-t4ej-PYuQ"
      }
    },
    {
      "cell_type": "markdown",
      "source": [
        "It turns out that there is a lot that we can learn from looking at a spectrum. For example, we can use the spectrum to determine how far away the supernova. Crucially, the colors that are present in the supernova's light tells us what kind of elements are present in the supernova.\n",
        "\n",
        "If you recall yesterday's look into nuclear fusion, stars of different masses will end up different elements present at the end of their lifetimes. The presence or absence of these elements determines the shape of the supernova's spectrum. Astronomer's commonly categorize supernovae into types based on these differences.\n",
        "\n",
        "\n",
        "\n",
        "---\n",
        "\n",
        "\n",
        "There are two main types of supernovae (as well as several subcategories that we will ignore for now).\n",
        "\n",
        "\n",
        "**Type Ia**: AKA Thermonuclear Supernova (https://www.youtube.com/watch?v=jlqnKu82UxU)\n",
        "\n",
        "*   These spectra of these supernovae have signals that show STRONG Silicon presence and NO Hydrogen presence.\n",
        "*   While one of the main supernovae types, thermonuclear supernova are also very different than all the other kinds of supernova because they don't actually originate from a massive star collapsing like the other type. Instead, they are something that can occur in systems with two stars, one of which is a white dwarf.\n",
        "*   Type Ia supernovae are particularly helpful for cosmology because they have a fairly fixed peak luminosity that all supernovae of this type achieve. This quirk makes it relatively easy to figure out how far away they are, so they can be used as a kind of distance scale for figuring out how far apart things in the Universe are.\n",
        "\n",
        "**Type II and Type Ib/c**: AKA Core Collapse Supernova\n",
        "\n",
        "*   This category encompases all the supernova that follow the 'normal' route to collapse.\n",
        "*   The mass of the star that the supernova originated from will impact the elements that are present, so there are a wide-array of possible spectra.\n",
        "\n",
        "\n",
        "<div>\n",
        "<img src=\"https://drive.google.com/uc?export=view&id=1k92LxhrxnThmrkXNu6C166hoJNNtYMdu\" width=\"500\"/>\n",
        "</div>\n",
        "\n"
      ],
      "metadata": {
        "id": "MUHEAPTzVb0K"
      }
    },
    {
      "cell_type": "markdown",
      "source": [
        "Visit https://www.wiserep.org/object/10162\n",
        "\n",
        "This is a type II supernova. Use the check boxes to the right of the spectrum to check for different elements. When a box is checked, it will show lines on the spectrum where features corresponding to that element would be found. Considering one element at a time, look for places where the lines match up with peaks or troughs in the spectrum. Drag your cursor over the spectra to zoom in on a region and use the auto-zoom button to zoom out.\n",
        "\n",
        "Note: The roman numerals next to the element names correspond to how many electrons the atom is missing. For now, ignore these numbers. For example, C I and C II are both signatures of the same element (Carbon), they just show up in different places on the spectrum.\n",
        "\n",
        "**Questions:**\n",
        "\n",
        "\n",
        "1.   This is a type II supernova so it should have Hydrogen present. Can you find the peak in the spectrum associated with Hydrogen?\n",
        "2.   Identify two additional elements that are present based on the spectrum.\n",
        "\n",
        "\n",
        "\n",
        "Now click on the expand button for the image in the far corner. See how far you can zoom out.\n",
        "\n",
        "\n",
        "Woah! This really is like looking for a needle in a haystack.\n",
        "\n"
      ],
      "metadata": {
        "id": "obt-sOPHbkIJ"
      }
    },
    {
      "cell_type": "markdown",
      "source": [
        "# Light Curves\n",
        "\n",
        "In addition to spectra, we get another hint about the supernova we are looking at by seeing how it changes over time. After the initial explosion, a supernova will get brighter until it reaches its peak brightness. Then it will begin to fade.\n",
        "\n",
        "\n",
        "Astronomers will often plot the brightness of the supernova vs time. This type of figure is called a light curve. Check out this short video showing the brighness change of one supernova over a few weeks: https://www.youtube.com/watch?v=TY6Y5_7xQ8o.\n",
        "\n",
        "\n",
        "The example below shows how, just like spectra, different supernova will have light curves that look differently.\n",
        "\n",
        "<div>\n",
        "<img src=\"https://drive.google.com/uc?export=view&id=1pn5ucHcpFKmVRFbHyZ6umuP0M7D1ROGA\" width=\"500\"/>\n",
        "</div>\n",
        "\n",
        "\n",
        "It can be tricky sometimes to observe a full light curve because it requires finding the supernova very quickly after it emerges and taking many observations over the course of its fading which takes place on a time scale of days to weeks. So you often don't see lightcurves that look nice a smooth like the example above. Instead, it might resemble more of a smattering of points covering some of the time that the supernova was observable."
      ],
      "metadata": {
        "id": "8xtiO3iHPd80"
      }
    },
    {
      "cell_type": "markdown",
      "source": [
        "# Understanding Magnitudes\n",
        "\n",
        "Remember what I said about astronomers sometimes using units because of historical reasons? Well things don't get too much more historical than magnitudes!\n",
        "\n",
        "Around 150 BC, the Greek astronomer Hipparchus made a catalog of around 850 stars he could observe with his naked eye. He then invented a scale to describe how bright they appeared to him. The brightest stars he assigned an **apparent magnitude** of $m=1$ and the dimmest stars that he could still see with his naked eye were given a value of $m=6$. Note that larger values means dimmer!\n",
        "\n",
        "<div>\n",
        "<img src=\"https://upload.wikimedia.org/wikipedia/commons/thumb/c/c6/Head_of_Hipparchus_%28cropped%29.jpg/220px-Head_of_Hipparchus_%28cropped%29.jpg\" width=\"100\"/>\n",
        "</div>\n",
        "\n",
        "\n",
        "This scale has been adjusted over time to better fit our understanding of light. Now, a difference of 5 magnitude between two objects means corresponds to a factor of 100 in brightness. In addition, astronomers have extended the scale in both directions to cover things that are as bright as our sun ($m=-26.83$) to the faintest objects we have detected with our best telescopes ($m\\sim30$).\n",
        "\n",
        "\n",
        "<div>\n",
        "<img src=\"https://upload.wikimedia.org/wikipedia/commons/thumb/6/6b/Magnitude_illustration.svg/1920px-Magnitude_illustration.svg.png\" width=\"500\"/>\n",
        "</div>\n",
        "\n",
        "\n",
        "\n",
        "Astronomers generally talk about two different kinds of magnitude:\n",
        "\n",
        "1.   **Apparent magnitude (m)** (i.e., how bright the object appears to an observer) is the kind that Hipparchus described.\n",
        "2.   **Absolute magnitude (M)** tells us about the true intensity of the light emitted from the object, adjusted for distance. This is often scaled to how bright the object would appear from 10 pc away.\n",
        "\n",
        "\n",
        "If we took two identical stars and put one of them right next to us and one of them further away, they would have the same absolute magnitude but the closer one would have a smaller apparent magnitude.\n",
        "\n",
        "https://www.youtube.com/watch?v=GnFFNcJ5Aks\n",
        "\n"
      ],
      "metadata": {
        "id": "FNiK_snWa1kt"
      }
    },
    {
      "cell_type": "markdown",
      "source": [
        "Let's do a few exercises with magnitudes!\n",
        "\n",
        "In order to do this, we are going to make use of something called a **function** in python. Functions are helpful when we want to perform the same task multiple times. For example, let's say that many times throughout my code I will want to add 2 to a value. It is easy enough for us to type x+2 for every value of x we want but if this was more cumbersome we might not want to write it out every time. Instead, we could make a function that performs this operation for us every time we give it a value.\n",
        "\n",
        "<div>\n",
        "<img src=\"https://external-content.duckduckgo.com/iu/?u=https%3A%2F%2Fmedia.nagwa.com%2F820123196717%2Fen%2Fthumbnail_l.jpeg&f=1&nofb=1&ipt=323df607946ebc032e6a0b35d7a32e81b8b3658bb2713d1e9aa7d27ff13152ee&ipo=images\" width=\"500\"/>\n",
        "</div>\n",
        "\n",
        "\n",
        "\n",
        "```\n",
        "#Our function:\n",
        "def add_two(x):\n",
        "  return x + 2\n",
        "\n",
        "input = 9\n",
        "output = add_two(input) #This is how we call our function\n",
        "print(output)\n",
        "```\n",
        "\n",
        "\n",
        "Now, throughout our code, anytime we want to perform the calculation +2 we can just call this function.\n",
        "\n",
        "\n",
        "Below, I have created three functions to help us do some calculations related to magnitudes. Each of them take two values as input and output one value.\n",
        "\n",
        "The cell below that shows how to use two of these functions to find the absolute magnitude of the sun and then to recover the distance to the sun we put in based on that value."
      ],
      "metadata": {
        "id": "5JzeNMTkeusX"
      }
    },
    {
      "cell_type": "code",
      "source": [
        "import numpy as np\n",
        "\n",
        "def calculate_absolute_magnitude(apparent_magnitude, distance):\n",
        "  #Given the apparent magnitude of an object and how far away it is, calculate what the absolute magnitude must be\n",
        "  return apparent_magnitude - 5 * np.log10(distance) + 5\n",
        "\n",
        "def calculate_apparent_magnitude(absolute_magnitude, distance):\n",
        "  #Given the absolute magnitude of an object and how far away it is, calculate what the apparent magnitude must be\n",
        "  return absolute_magnitude + 5 * np.log10(distance) - 5\n",
        "\n",
        "def calculate_distance(absolute_magnitude,apparent_magnitude):\n",
        "  #Given an absolute and an apparent magnitude, determine how far away the object is\n",
        "  return pow(10, (apparent_magnitude - absolute_magnitude+5)/5)"
      ],
      "metadata": {
        "id": "vWWo6M6fe6f3"
      },
      "execution_count": 23,
      "outputs": []
    },
    {
      "cell_type": "markdown",
      "source": [
        "Below is an example for the sun\n"
      ],
      "metadata": {
        "id": "RuBCtWS-knwj"
      }
    },
    {
      "cell_type": "code",
      "source": [
        "solar_apparent_mag= -26.83 #apparent magnitude - how bright the sun appears to us on earth\n",
        "solar_distance = 4.848e-6 #This is how far away the sun is from the earth in parsecs (pc)\n",
        "\n",
        "solar_absolute_mag = calculate_absolute_magnitude(solar_apparent_mag, solar_distance)\n",
        "\n",
        "distance_to_sun = calculate_distance(solar_absolute_mag,solar_apparent_mag)\n",
        "\n",
        "print(\"The absolute magnitude of the sun is {0:.2f}\".format(solar_absolute_mag))\n",
        "print(\"Given the apparent magnitude of the sun, this means the distance to the sun is {0:.3e} pc\".format(distance_to_sun))"
      ],
      "metadata": {
        "colab": {
          "base_uri": "https://localhost:8080/"
        },
        "id": "KDZIN82FjJNu",
        "outputId": "7c840144-de8c-498d-c073-dee3ab5df777"
      },
      "execution_count": 15,
      "outputs": [
        {
          "output_type": "stream",
          "name": "stdout",
          "text": [
            "The absolute magnitude of the sun is 4.74\n",
            "Given the apparent magnitude of the sun, this means the distance to the sun is 4.848e-06 pc\n"
          ]
        }
      ]
    },
    {
      "cell_type": "markdown",
      "source": [
        "Consider if we moved our sun out to a distance of 50pc away. Fill in the blanks below to find out how the apparent magnitude of the sun will change. Would we still be able to see the sun with our naked eyes?"
      ],
      "metadata": {
        "id": "A9BHbOslkTkM"
      }
    },
    {
      "cell_type": "code",
      "source": [
        "new_solar_distance = BLANK\n",
        "\n",
        "new_apparent_mag = calculate_apparent_magnitude(solar_absolute_mag,new_solar_distance)\n",
        "print(\"The sun now appears to have a magnitude of {0:.2f} to an observer on earth.\".format(new_apparent_mag))"
      ],
      "metadata": {
        "colab": {
          "base_uri": "https://localhost:8080/"
        },
        "id": "unM3Owr_k5YA",
        "outputId": "c057d594-ee29-4b35-bb78-071564331761"
      },
      "execution_count": 18,
      "outputs": [
        {
          "output_type": "stream",
          "name": "stdout",
          "text": [
            "The sun now appears to have a magnitude of 9.55 to an observer on earth.\n"
          ]
        }
      ]
    },
    {
      "cell_type": "markdown",
      "source": [
        "Now consider a supernova that we know has an absolute magnitude of 11.5 but to us appears to have a magnitude of 22.0. The cell below shows how to use these values to determine how far away from us the supernova is occuring."
      ],
      "metadata": {
        "id": "EMd_hRGLp7ZG"
      }
    },
    {
      "cell_type": "code",
      "source": [
        "supernova_absolute_mag = 11.5\n",
        "supernova_apparent_mag = 22.0\n",
        "\n",
        "distance_to_supernova = calculate_distance(supernova_absolute_mag,supernova_apparent_mag)\n",
        "\n",
        "print(\"The distance to the supernova is {0:.3e} pc\".format(distance_to_supernova))"
      ],
      "metadata": {
        "colab": {
          "base_uri": "https://localhost:8080/"
        },
        "id": "i4b3ys2JleUR",
        "outputId": "3bda87fc-005d-418d-ee1b-a3547ffa5b98"
      },
      "execution_count": 19,
      "outputs": [
        {
          "output_type": "stream",
          "name": "stdout",
          "text": [
            "The distance to the supernova is 1.259e+03 pc\n"
          ]
        }
      ]
    },
    {
      "cell_type": "markdown",
      "source": [
        "Now go back to the previous cell and try changing the value of supernova_apparent_mag. Try three different values between 0 and 30. What distances to you find? Do these make sense?\n",
        "\n",
        "\n",
        "Now consider if we put our supernova where the sun is (In reality this would be very bad if there was a supernova this close by!). Use the code below to calculate how bright the supernova is."
      ],
      "metadata": {
        "id": "SvQOlHHemG0R"
      }
    },
    {
      "cell_type": "code",
      "source": [
        "supernova_absolute_mag = 11.5\n",
        "distance_to_supernova = 4.848e-6 #pc\n",
        "\n",
        "supernova_apparent_mag = calculate_apparent_magnitude(supernova_absolute_mag,distance_to_supernova)\n",
        "\n",
        "print(\"The apparent magnitude of the supernova is {0:.2f}\".format(supernova_apparent_mag))"
      ],
      "metadata": {
        "colab": {
          "base_uri": "https://localhost:8080/"
        },
        "id": "VgaZBc1Smh-i",
        "outputId": "592b5bb6-04ee-41c3-d15a-961633449489"
      },
      "execution_count": 20,
      "outputs": [
        {
          "output_type": "stream",
          "name": "stdout",
          "text": [
            "The apparent magnitude of the supernova is -26.48\n"
          ]
        }
      ]
    },
    {
      "cell_type": "markdown",
      "source": [
        "How much brighter would this supernova appear to us than the sun?"
      ],
      "metadata": {
        "id": "wKFyKeYOmtTT"
      }
    },
    {
      "cell_type": "markdown",
      "source": [
        "## If Time Allows:\n",
        "\n",
        "As an additional activity, visit the interactive light curve explorer at https://astro.unl.edu/naap/distance/animations/snCurveExplorer.html.\n",
        "\n",
        "Adjust the various supernova so that the observed points fall on the standard light curve for a Type Ia supernova.\n",
        "\n",
        "Then, see if you can figure out how to use the absolute magnitude (left axis) and the apparent magnitude (left axis) to figure out how far away the supernova was from us.\n",
        "\n"
      ],
      "metadata": {
        "id": "26EPKG6Clz-4"
      }
    }
  ]
}