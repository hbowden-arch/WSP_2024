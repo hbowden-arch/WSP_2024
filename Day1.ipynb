{
  "nbformat": 4,
  "nbformat_minor": 0,
  "metadata": {
    "colab": {
      "provenance": [],
      "collapsed_sections": [
        "84esb_s4K2s4"
      ],
      "toc_visible": true,
      "include_colab_link": true
    },
    "kernelspec": {
      "name": "python3",
      "display_name": "Python 3"
    },
    "language_info": {
      "name": "python"
    }
  },
  "cells": [
    {
      "cell_type": "markdown",
      "metadata": {
        "id": "view-in-github",
        "colab_type": "text"
      },
      "source": [
        "<a href=\"https://colab.research.google.com/github/hbowden-arch/WSP_2024/blob/main/Day1.ipynb\" target=\"_parent\"><img src=\"https://colab.research.google.com/assets/colab-badge.svg\" alt=\"Open In Colab\"/></a>"
      ]
    },
    {
      "cell_type": "markdown",
      "source": [
        "# **Day 1: The Life and Death of Stars**\n",
        "\n",
        "Big Questions:\n",
        "\n",
        "\n",
        "*   What kinds of properties do astronomers talk about when they about stars?\n",
        "*   Why do different types of stars have different life cycles?\n",
        "*   What happens to massive stars when they run out of fuel to burn?\n",
        "\n",
        "---\n",
        "\n"
      ],
      "metadata": {
        "id": "q2lITJ0jaA4F"
      }
    },
    {
      "cell_type": "markdown",
      "source": [
        "Table of Contents\n",
        "\n",
        "* [How to Use This Notebook](#How-to-Use-This-Notebook)\n",
        "* [What is a star?](#What-is-a-star?)\n",
        "    * [Definition](#Definition)\n",
        "    * [Terminology](#Terminology)\n",
        "    * [How much energy are we talking about?](#How-much-energy-are-we-talking-about?)\n",
        "* [Let's meet some different types of stars](#Let's-meet-some-different-types-of-stars)\n",
        "* [What happens when they run out of fuel to burn?](#What-happens-when-they-run-out-of-fuel-to-burn?)\n",
        "___\n",
        "\n"
      ],
      "metadata": {
        "id": "uAEkdRHpaEb7"
      }
    },
    {
      "cell_type": "markdown",
      "source": [
        "# How to use this notebook"
      ],
      "metadata": {
        "id": "4g-9dXgPGuSI"
      }
    },
    {
      "cell_type": "markdown",
      "source": [
        "This is a python notebook. It can be used to interactively run code. Each dark box is a *cell*. Each cell contains a snippet of code.\n",
        "\n",
        "You can execute the code in a cell by hovering over it and selecting the play button or by selecting the cell and hitting `[Shift + Enter]` on your keyboard.\n",
        "\n",
        "If a cell creates an output, it will then be displayed directly below the cell, like the statement we print below."
      ],
      "metadata": {
        "id": "m6iVWxnmGx3B"
      }
    },
    {
      "cell_type": "code",
      "source": [
        "print(\"I just ran this cell\")"
      ],
      "metadata": {
        "id": "muFU3rxraRtZ",
        "colab": {
          "base_uri": "https://localhost:8080/"
        },
        "outputId": "088e1140-1679-42d0-b69b-a11929a2f324"
      },
      "execution_count": null,
      "outputs": [
        {
          "output_type": "stream",
          "name": "stdout",
          "text": [
            "I just ran this cell\n"
          ]
        }
      ]
    },
    {
      "cell_type": "markdown",
      "source": [
        "If there is something wrong with the code in your cell, the output may instead show a warning or an error. One example is below."
      ],
      "metadata": {
        "id": "kt01dl7OFkhJ"
      }
    },
    {
      "cell_type": "code",
      "source": [
        "print(\"This code is missing something\""
      ],
      "metadata": {
        "colab": {
          "base_uri": "https://localhost:8080/",
          "height": 106
        },
        "id": "482dbjTpIitS",
        "outputId": "054da1e2-8426-4510-837c-3be79cbb1c2f"
      },
      "execution_count": null,
      "outputs": [
        {
          "output_type": "error",
          "ename": "SyntaxError",
          "evalue": "incomplete input (<ipython-input-1-e3738029a265>, line 1)",
          "traceback": [
            "\u001b[0;36m  File \u001b[0;32m\"<ipython-input-1-e3738029a265>\"\u001b[0;36m, line \u001b[0;32m1\u001b[0m\n\u001b[0;31m    print(\"This code is missing something\"\u001b[0m\n\u001b[0m                                          ^\u001b[0m\n\u001b[0;31mSyntaxError\u001b[0m\u001b[0;31m:\u001b[0m incomplete input\n"
          ]
        }
      ]
    },
    {
      "cell_type": "markdown",
      "source": [
        "Go ahead and see if you can fix the code in the cell above and then try running the cell again. We will learn more about writing in python and using python notebooks as we go.\n",
        "\n",
        "\n",
        "Throughout this notebook, you will also be asked to answer questions about the content. Feel free to write your answers on paper, or, if you like you can double click on one of these text cells to edit and add your own text. Let me know if you have any questions on how to do this.\n",
        "\n",
        "For now let's get set up to learn some things about stars!\n",
        "\n",
        "\n",
        "---\n",
        "\n"
      ],
      "metadata": {
        "id": "YUqkVsMPIwAt"
      }
    },
    {
      "cell_type": "markdown",
      "source": [
        "# What is a star?\n",
        "\n",
        "<div>\n",
        "<img src=\"https://drive.google.com/uc?export=view&id=1aWJOQLcVLEJqYLugwAAlIWQtfYGExrZq\" width=\"500\"/>\n",
        "</div>\n",
        "\n",
        "**Discuss:** Work with your group to come up with a definition of a star? Identify a few key traits that all stars share.\n",
        "\n",
        "\n",
        "Once you have finished, you can click on the arrow by 'reveal definition' to see one definition that astronomers use to define stars. How does this definition compare to your own?"
      ],
      "metadata": {
        "id": "DKpPxVJ_JVKN"
      }
    },
    {
      "cell_type": "markdown",
      "source": [
        "## Reveal definition:"
      ],
      "metadata": {
        "id": "84esb_s4K2s4"
      }
    },
    {
      "cell_type": "markdown",
      "source": [
        "Stars are giant spheres made up of hot gas. They emit light and are held together by gravity."
      ],
      "metadata": {
        "id": "43NKkrAGN8mn"
      }
    },
    {
      "cell_type": "markdown",
      "source": [
        "## Terminology\n",
        "Give this section a quick scan to familiarize yourself with how astronomers talk about stars. This section is primarily here for you to reference back to it later if you are confused about the units being used. You should also have access to a pdf with a list of units and numbers that are important in astronomy.\n",
        "\n",
        "\n",
        "Temperature - Stars are exceedingly hot.\n",
        "\n",
        "*   Generally we measure there temperature in Kelvin (K). 1 K separation is the same spacing as 1 degree Celsius, just scaled differently so that 0 K is equivalent to -272.2 degrees Celsius.\n",
        "*   Stars are not the same temperature in their cores as they are one the outside. Usually, when we refer to the temperature of a star we mean the \"effective temperature\" which is the temperature closer to the surface and which determines the color of the object as we see it.\n",
        "\n",
        "\n",
        "\n",
        "Mass - There are two main units we use to discuss mass.\n",
        "\n",
        "\n",
        "*   Grams (g) - This is the one you've likely encountered in your day to day lives. Astronomers also often use it to talk about the mass of very small things.\n",
        "*   Solar Masses (M$_{\\odot}$) - This is the mass of our Sun or around $2x10^{33}$ g. Often when we talk about the mass of the star we will talk about it in comparison to our sun.\n",
        "\n",
        "\n",
        "\n",
        "Distance -\n",
        "\n",
        "\n",
        "*   When discussing the size of stars, we can use SI units (like meters or kilometers) or we might refer to them in relation to the radius of the Sun (R$_{\\odot}$).\n",
        "*   Things is space are extremely far apart so astronomers generally use specialized units to describe the distances between things. A light year (ly) is the distance that light can travel in a year. It is approximately $10^{13}$ km. Another common unit is the parsec (pc). 1 pc is approximately 3.3 lys.\n",
        "\n",
        "\n",
        "\n",
        "Time - Your safe on this one! Astronomers tend to use standard units of time although many things in the Unvierse happen on the scale of millions of years!\n",
        "\n",
        "\n",
        "Brightness - We need a way to talk about how much light stars emit. Throughout this project we will primarily talk about luminosity, which is a measure of how intrinsincally bright an object is rather than how bright it might appear to an observer (the latter will depend on how far away the obeserver is and whether there's anything in between them and the star). Some units for talking about luminosity are:\n",
        "\n",
        "\n",
        "*   Solar luminosity (L$_{\\odot}$) - Like mass and size it is often useful to compare the brightness of an object to our sun for reference.\n",
        "*   Watts (or Joules/sec) - These units are less common but can be useful in situations where the luminosity is on a very different scale than the solar luminosity.\n",
        "\n"
      ],
      "metadata": {
        "id": "bS80IgH1OUJQ"
      }
    },
    {
      "cell_type": "markdown",
      "source": [
        "# Let's meet some different types of stars"
      ],
      "metadata": {
        "id": "E-Up5HXCPD7R"
      }
    },
    {
      "cell_type": "markdown",
      "source": [
        "<div>\n",
        "<img src=\"https://drive.google.com/uc?export=view&id=15OiSSbkMFofgLpU49_7y80jb34OcjWup\" width=\"500\"/>\n",
        "</div>\n",
        "\n",
        "\n",
        "This is a Hertzprung-Russell Diagram or HR Diagram. Note the swapped x-axis! Stars on the left hand side are hotter than stars on the right hand side. The y-axis shows luminosity in powers of 10. That means that if a star is one tick higher than another star on the y-axis, then it is 10x brighter!\n",
        "\n",
        "**Questions:**\n",
        "\n",
        "\n",
        "\n",
        "1.   Locate the Sun on this diagram. What group of stars does it belong to?\n",
        "2.   Using the figure, estimate the temperature of the Sun. Now look up the temperature of the Sun using Google. Was your estimate accurate?\n",
        "3.   Now find Betelgeuse on the diagram. Is Betelgeuse hotter or cooler than the Sun?\n",
        "4.   Estimate how much brighter Betelgeuse is compared to the Sun.\n",
        "\n",
        "\n",
        "\n",
        "\n",
        "**Discussion Points:**\n",
        "\n",
        "\n",
        "\n",
        "1.   The lowest temperature stars on this diagram are 3000K. What is one reason why there might not be stars with lower temperatures than this?\n",
        "2.   Consider the color and size of the stars. How does a star's color and size relate to its position on the diagram?\n",
        "\n",
        "\n",
        "\n",
        "\n",
        "---\n",
        "\n",
        "\n",
        "\n"
      ],
      "metadata": {
        "id": "04pfhwC5mG8j"
      }
    },
    {
      "cell_type": "markdown",
      "source": [
        "Throughout its lifetime, a star will change both temperature and luminosity, moving around on the HR Diagram.\n",
        "\n",
        "**Task:** Visit https://starinabox.lco.global/ and see how a star the mass of the sun will change over it's lifetime. Tip - Select the normal setting on the box and change the speed of the simulation to normal.\n",
        "\n",
        "1.   What are the main stages that the solar mass star goes through?\n",
        "2.   About how old will the sun be when it leaves the main sequence and starts on the red giant branch?\n",
        "3.   Run the simulation again but for a 20 solar mass star. What is its final state?\n",
        "4.   Repeat question 3 but for a 40 solar mass star.\n",
        "\n",
        "\n",
        "\n",
        "Now take a look at the diagram below. Is what you obeserved in the simulation consistent with the life cycles shown in the diagram?\n",
        "\n",
        "<div>\n",
        "<img src=\"https://drive.google.com/uc?export=view&id=1G7EBU-3HHW23Nsd3r9lNhA1Bo1nH1Y_Y\" width=\"750\"/>\n",
        "</div>\n",
        "\n"
      ],
      "metadata": {
        "id": "iIjjxjQsrtFn"
      }
    },
    {
      "cell_type": "markdown",
      "source": [
        "# Stellar Fuel\n",
        "\n",
        "Like a campfire, a star needs fuel to burn. The amount and type of fuel is going to change the temperature and size of the fire. Unlike a campfire, stars are not burning wood, but rather performing nuclear fusion on a grand scale to convert atoms of one element into another.\n",
        "\n",
        "\n",
        "Stars like our sun are made primarily out of Hydrogen, the lightest element. For much of it's lifetime, the Sun will convert Hydrogen into Helium. This process is possible because of the extreme conditions in the center of the Sun.\n",
        "\n",
        "Check out this video for a short explanation of this process and how the Sun produces so much energy. https://www.youtube.com/watch?v=O3wRlPNAnrA&t=2s.\n",
        "\n",
        "**Check in:** If you reach this point before the group is ready to discuss, go ahead and watch the next video in the sequence: https://www.youtube.com/watch?v=_dD7u_D20T8."
      ],
      "metadata": {
        "id": "5LsGPOmUzCnV"
      }
    },
    {
      "cell_type": "markdown",
      "source": [
        "## How much energy are we talking about?\n",
        "\n",
        "Let's try out using python to do a few calculations. The first code cell is finished, the rest you will finish yourself.\n",
        "\n",
        "First, let's use the equation $E=mc^2$ to calculate how much energy is in one Hydrogen atom."
      ],
      "metadata": {
        "id": "SEON0CwsOiO1"
      }
    },
    {
      "cell_type": "code",
      "source": [
        "#This is a comment because it is preceeded by the '#' character\n",
        "#Comments are where your can put explanations and information not present in your code.\n",
        "\n",
        "m_H = 1.6735*10**(-24) #The mass of one hydrogen atom is approximately 1.6735 x 10-24 grams\n",
        "c = 3*10**8 #The speed of light is approximately 3 x 10^8 meters/s\n",
        "\n",
        "#Now that we have defined our variables, we can perform our calculation. We use the '*' to represent multiplication and '**' to represent exponents.\n",
        "\n",
        "E = m_H*c*c #or equivalently we could have written E = m_H*c**2\n",
        "\n",
        "#Finally we want to output the value we calculated. We can do this using the function 'print()' like so\n",
        "print(E)"
      ],
      "metadata": {
        "id": "1-GmbYk-PT8W",
        "colab": {
          "base_uri": "https://localhost:8080/"
        },
        "outputId": "8d38ce80-d42b-4320-e55d-14a63e43cafc"
      },
      "execution_count": null,
      "outputs": [
        {
          "output_type": "stream",
          "name": "stdout",
          "text": [
            "1.5061499999999998e-07\n"
          ]
        }
      ]
    },
    {
      "cell_type": "markdown",
      "source": [
        "Ok so that's a number. Unfortunately, its units are currently g m^2/s^2, which is not a stardard unit of energy we typically use. In the next cell I have provided the conversion value to go from our weird energy units to Joules, which are more standard Energy unit. Go ahead a perform this conversion in the next cell."
      ],
      "metadata": {
        "id": "GH1qM_0q17hS"
      }
    },
    {
      "cell_type": "code",
      "source": [
        "our_unit_to_Joules = 0.001  #our unit is 1/1000th of a Joule.\n",
        "\n",
        "# Fill in the eqution below to convert our energy (E) from the previous calculation into the equivalent energy in Joules (E_J)\n",
        "\n",
        "E_J = Blank #Your code here\n",
        "\n",
        "print(E_J)"
      ],
      "metadata": {
        "colab": {
          "base_uri": "https://localhost:8080/",
          "height": 221
        },
        "id": "6oEuVD4c3iy9",
        "outputId": "a38b9221-c0c9-4adf-b71f-63c3c3b905ca"
      },
      "execution_count": null,
      "outputs": [
        {
          "output_type": "error",
          "ename": "NameError",
          "evalue": "name 'Blank' is not defined",
          "traceback": [
            "\u001b[0;31m---------------------------------------------------------------------------\u001b[0m",
            "\u001b[0;31mNameError\u001b[0m                                 Traceback (most recent call last)",
            "\u001b[0;32m<ipython-input-3-2f12caf4719e>\u001b[0m in \u001b[0;36m<cell line: 5>\u001b[0;34m()\u001b[0m\n\u001b[1;32m      3\u001b[0m \u001b[0;31m# Fill in the eqution below to convert our energy (E) from the previous calculation into the equivalent energy in Joules (E_J)\u001b[0m\u001b[0;34m\u001b[0m\u001b[0;34m\u001b[0m\u001b[0m\n\u001b[1;32m      4\u001b[0m \u001b[0;34m\u001b[0m\u001b[0m\n\u001b[0;32m----> 5\u001b[0;31m \u001b[0mE_J\u001b[0m \u001b[0;34m=\u001b[0m \u001b[0mBlank\u001b[0m \u001b[0;31m#Your code here\u001b[0m\u001b[0;34m\u001b[0m\u001b[0;34m\u001b[0m\u001b[0m\n\u001b[0m\u001b[1;32m      6\u001b[0m \u001b[0;34m\u001b[0m\u001b[0m\n\u001b[1;32m      7\u001b[0m \u001b[0mprint\u001b[0m\u001b[0;34m(\u001b[0m\u001b[0mE_J\u001b[0m\u001b[0;34m)\u001b[0m\u001b[0;34m\u001b[0m\u001b[0;34m\u001b[0m\u001b[0m\n",
            "\u001b[0;31mNameError\u001b[0m: name 'Blank' is not defined"
          ]
        }
      ]
    },
    {
      "cell_type": "markdown",
      "source": [
        "Before we move on, check your work. The value of our energy in Joules should be a smaller number than the energy in our original units. Is your value smaller?\n",
        "\n",
        "\n",
        "Great work! You have successfully performed a calculation using python. We now are entering the last part of our stellar life cycles exercise."
      ],
      "metadata": {
        "id": "5xojM0Ex3lHv"
      }
    },
    {
      "cell_type": "markdown",
      "source": [
        "## What happens when they run out of fuel to burn?\n",
        "\n",
        "\n",
        "There's a lot of Hydrogen atoms in the Sun, but eons from now the Sun will eventually run out of Hydrogen to burn. What happens then?\n",
        "\n",
        "Well it turns out that if a star is sufficiently massive (and thus sufficiently hot and pressurized in its center) it can burn elements other than Hydrogen as well. In fact, it will keep converting its gas into heavier and heavier elements until it either runs into an element that requires too much energy to convert into the next one up.\n",
        "\n",
        "If the star is big enough it will keep converting elements into heavier one until it runs into Iron (Fe). Iron is a special case when it comes to nuclear fusion. Up until Iron, the star generates extra energy by going from element to the next, but it turns out that burning Iron actually takes more energy than the reaction produces."
      ],
      "metadata": {
        "id": "7lVzg_1kPVtF"
      }
    },
    {
      "cell_type": "markdown",
      "source": [
        "\n",
        "<div>\n",
        "<img src=\"https://drive.google.com/uc?export=view&id=1nYobBDlzop1uKi2rcjyYakdC0iY6s7N1\" width=\"500\"/>\n",
        "</div>\n",
        "\n",
        "\n",
        "A star's life is a constant struggle between gravity trying to make it collapse and the radiation from the core trying to push all the gas outward. When a massive star has burned until its center (core) is all Iron, it has run out of fuel to burn. With energy no longer radiating out from the center, gravity finally wins the battle and the star starts to collapse in on itself. As we learned before, there are two possible ends for massive stars. Neutron stars and black holes. These are the remnants left behind by what used to be massive stars, but before our massive stars can become these one more thing must happen.\n",
        "\n",
        "The gravitational triggers a giant explosion called a ***supernova***. Supernova are incredibly powerful and can be seen from very far away. In fact, some of the supernovae (that's the plural of supernova) we have observed in other galaxies are so powerful that the light from their explosion can outshine briefly outshine the entire rest of their galaxy.\n",
        "\n",
        "<div>\n",
        "<img src=\"https://drive.google.com/uc?export=view&id=1zxn7h-cQhCiYepG3lDY-5ipvzrkSQrvq\" width=\"500\"/>\n",
        "</div>\n",
        "\n",
        "---\n",
        "\n",
        "\n",
        "You now know the fundamentals of how stars work! With this foundation, the rest of our week will be focused on **supernovae**. In addition to being cool space explosions, they also present ways for us to learn about the stars they come from and to learn more generally about the Universe!  "
      ],
      "metadata": {
        "id": "3lY9iBc8nznT"
      }
    }
  ]
}