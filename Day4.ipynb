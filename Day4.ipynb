{
  "nbformat": 4,
  "nbformat_minor": 0,
  "metadata": {
    "colab": {
      "provenance": [],
      "mount_file_id": "1Dnpjd4xT2tSIIS_RYuueJVQB_TsEwvB_",
      "authorship_tag": "ABX9TyO1armtaehmF50mMeAkv/0s",
      "include_colab_link": true
    },
    "kernelspec": {
      "name": "python3",
      "display_name": "Python 3"
    },
    "language_info": {
      "name": "python"
    }
  },
  "cells": [
    {
      "cell_type": "markdown",
      "metadata": {
        "id": "view-in-github",
        "colab_type": "text"
      },
      "source": [
        "<a href=\"https://colab.research.google.com/github/hbowden-arch/WSP_2024/blob/main/Day4.ipynb\" target=\"_parent\"><img src=\"https://colab.research.google.com/assets/colab-badge.svg\" alt=\"Open In Colab\"/></a>"
      ]
    },
    {
      "cell_type": "markdown",
      "source": [
        "# **Day 4: Supernova Light Curves Continued**\n",
        "\n",
        "Big Questions:\n",
        "\n",
        "\n",
        "*   Different types of supernova\n",
        "*   What can you learn about a supernova by looking at its lightcurve?\n",
        "\n",
        "\n",
        "Additional goals:\n",
        "\n",
        "\n",
        "*   Use python to do your own calculations\n",
        "*   Make your own plot in python\n",
        "\n",
        "\n",
        "\n",
        "---"
      ],
      "metadata": {
        "id": "BZ7BBQDv0_JK"
      }
    },
    {
      "cell_type": "markdown",
      "source": [
        "# Redshift\n",
        "\n",
        "Redshift is a way of determining how fast an object is moving towards or away from you. Just like with the Doppler shift in sound, the wavelength of light of an object moving towards us is shortened (more blue) and an object moving away from us is lengthened (more red).\n",
        "\n",
        "Visit this site and look at how far apart the peaks are on the waves being sent out by the source versus what the observer sees. How does this change if you move the observer relative to the source? https://foothillastrosims.github.io/alpha-doppler-shift/.\n",
        "\n",
        "We can represent this change in the space between peaks with a value called the redshift (abbreviated as $z$). Specifically, $z$ is the ratio between the change in distance between peaks (or wavelength) as seen by the observer vs emitted by the source and the true wavelength emitted by the source.\n",
        "\n",
        "\n",
        "In space, the electromagnetic waves from our supernova should move towards us at the speed of light (abbreviated as $c$). We can determine how fast an object is moving away from us (AKA it's recession velocity) with the following formula:\n",
        "\n",
        "$$v = c \\times z$$\n",
        "\n"
      ],
      "metadata": {
        "id": "fxt22J1jGew9"
      }
    },
    {
      "cell_type": "markdown",
      "source": [
        "# Calculating the Hubble Constant"
      ],
      "metadata": {
        "id": "2lNOwibZGKOn"
      }
    },
    {
      "cell_type": "markdown",
      "source": [
        "Visit the interactive light curve explorer at https://astro.unl.edu/naap/distance/animations/snCurveExplorer.html.\n",
        "\n",
        "Adjust the various supernova so that the observed points fall on the standard light curve for a Type Ia supernova.\n",
        "\n",
        "Then, see if you can figure out how to use the absolute magnitude (left axis) and the apparent magnitude (left axis) to figure out how far away the supernova was from us.\n",
        "\n",
        "\n",
        "\n",
        "For each of the supernova in the following table, use the redshift formula above to fill in the radial speed section and the calculator on the linked site to fill in the distance.\n",
        "\n",
        "<div>\n",
        "<img src=\"https://drive.google.com/uc?export=view&id=1ptuyIWI5aP-jyjHvSniVtbmEYGgsHOQq\" width=\"500\"/>\n",
        "</div>"
      ],
      "metadata": {
        "id": "WM2kVU9nGsgK"
      }
    },
    {
      "cell_type": "markdown",
      "source": [
        "# Plotting and Fitting a Line\n",
        "\n",
        "Now that you have a set of speeds and distances, go ahead and fill in the missing sections in the code below to plot the two sets of values against each other.\n",
        "\n",
        "\n"
      ],
      "metadata": {
        "id": "56W_5LZdGPsf"
      }
    },
    {
      "cell_type": "code",
      "source": [
        "radial_speeds = [?,?,?,?,?] #replace '?s' with your speeds in km/s\n",
        "distances = [?,?,?,?,?] #replace '?s' with your distances in Mpc"
      ],
      "metadata": {
        "id": "xmzryO511s81"
      },
      "execution_count": null,
      "outputs": []
    },
    {
      "cell_type": "code",
      "source": [
        "import matplotlib.pyplot as plt\n",
        "\n",
        "plt.plot(distances,radial_speeds) #Feel free to revisit yeseterdays notebook to remember how to change formatting\n",
        "plt.title(\"Hubble Diagram\")\n",
        "plt.xlabel() #Make sure to add the appropriate x and y-axis labels!\n",
        "plt.ylabel()"
      ],
      "metadata": {
        "colab": {
          "base_uri": "https://localhost:8080/",
          "height": 239
        },
        "id": "KlOCrXs52WQQ",
        "outputId": "8fe04b8a-1fde-4547-ea2e-3d081bcf499b"
      },
      "execution_count": 1,
      "outputs": [
        {
          "output_type": "error",
          "ename": "NameError",
          "evalue": "name 'distances' is not defined",
          "traceback": [
            "\u001b[0;31m---------------------------------------------------------------------------\u001b[0m",
            "\u001b[0;31mNameError\u001b[0m                                 Traceback (most recent call last)",
            "\u001b[0;32m<ipython-input-1-5eea8c0025c7>\u001b[0m in \u001b[0;36m<cell line: 3>\u001b[0;34m()\u001b[0m\n\u001b[1;32m      1\u001b[0m \u001b[0;32mimport\u001b[0m \u001b[0mmatplotlib\u001b[0m\u001b[0;34m.\u001b[0m\u001b[0mpyplot\u001b[0m \u001b[0;32mas\u001b[0m \u001b[0mplt\u001b[0m\u001b[0;34m\u001b[0m\u001b[0;34m\u001b[0m\u001b[0m\n\u001b[1;32m      2\u001b[0m \u001b[0;34m\u001b[0m\u001b[0m\n\u001b[0;32m----> 3\u001b[0;31m \u001b[0mplt\u001b[0m\u001b[0;34m.\u001b[0m\u001b[0mplot\u001b[0m\u001b[0;34m(\u001b[0m\u001b[0mdistances\u001b[0m\u001b[0;34m,\u001b[0m\u001b[0mradial_speeds\u001b[0m\u001b[0;34m)\u001b[0m \u001b[0;31m#Feel free to revisit yeseterdays notebook to remember how to change formatting\u001b[0m\u001b[0;34m\u001b[0m\u001b[0;34m\u001b[0m\u001b[0m\n\u001b[0m\u001b[1;32m      4\u001b[0m \u001b[0mplt\u001b[0m\u001b[0;34m.\u001b[0m\u001b[0mtitle\u001b[0m\u001b[0;34m(\u001b[0m\u001b[0;34m\"Hubble Diagram\"\u001b[0m\u001b[0;34m)\u001b[0m\u001b[0;34m\u001b[0m\u001b[0;34m\u001b[0m\u001b[0m\n\u001b[1;32m      5\u001b[0m \u001b[0mplt\u001b[0m\u001b[0;34m.\u001b[0m\u001b[0mxlabel\u001b[0m\u001b[0;34m(\u001b[0m\u001b[0;34m)\u001b[0m \u001b[0;31m#Make sure to add the appropriate x and y-axis labels!\u001b[0m\u001b[0;34m\u001b[0m\u001b[0;34m\u001b[0m\u001b[0m\n",
            "\u001b[0;31mNameError\u001b[0m: name 'distances' is not defined"
          ]
        }
      ]
    },
    {
      "cell_type": "markdown",
      "source": [
        "It looks like we could draw a straight line through these points! This suggests that there is a linear relation between how far away an object is from us and how fast it is moving.\n",
        "\n",
        "Below is a diagram showing like ours, but with an additional line through the points showing the general trend. Let's add our own line to our plot!\n",
        "\n",
        "\n",
        "<div>\n",
        "<img src=\"https://imageio.forbes.com/blogs-images/startswithabang/files/2018/02/Kirshner.jpg?height=536&width=711&fit=bounds\" width=\"500\"/>\n",
        "</div>"
      ],
      "metadata": {
        "id": "nM6VjcOC20kV"
      }
    },
    {
      "cell_type": "markdown",
      "source": [
        "Our line should have the form $v = H\\times d$ where v is our velocity, d is our distances, and H is the slope of our relationship. H turns out to be an import value we call the *Hubble Constant*. Try out some different values for the slope and see by eye if you can make a line that goes through your points."
      ],
      "metadata": {
        "id": "oC9kn0b57Nw9"
      }
    },
    {
      "cell_type": "code",
      "source": [
        "H = ??? #Replace these question marks with your guess of the value of H (hint: its somewhere between 10 and 100)\n",
        "\n",
        "d = np.arange(0,1000)\n",
        "v = H*d\n",
        "\n",
        "plt.scatter(distances,radial_speeds) #Feel free to revisit yeseterdays notebook to remember how to change formatting\n",
        "plt.plot(d,v)\n",
        "plt.title(\"Hubble Diagram\")\n",
        "plt.xlabel() #Make sure to add the appropriate x and y-axis labels!\n",
        "plt.ylabel()\n",
        "\n",
        "plt.xlim() #This is where you set the range of your x and y-axes!\n",
        "plt.ylim()"
      ],
      "metadata": {
        "id": "4mjoI3QS761P"
      },
      "execution_count": null,
      "outputs": []
    },
    {
      "cell_type": "markdown",
      "source": [
        "Keep adjust the values of H until you find one that fits your points well!\n",
        "\n",
        "What value of H do you find? Now consider the equation $v = H\\times d$. If $v$ is in $km/s$ and $d$ is in Mpc, what must be the units of $H$ to make this equation make sense?"
      ],
      "metadata": {
        "id": "rGUs5qWq8gWy"
      }
    },
    {
      "cell_type": "markdown",
      "source": [
        "The units of the Hubble constant are $\n",
        "\\frac{km/s}{Mpc}$. As km and Mpc are both units of distance, this means that the Hubble constant actually has dimensions of $\\frac{1}{time}$.\n",
        "\n",
        "Determine what $\\frac{1}{H_0}$ in units of years. What might this time correspond to in terms of our Universe?\n",
        "\n",
        "\n",
        "Unit conversions:\n",
        "\n",
        "1pc $= 3.1 \\times 10^{13}$ km\n",
        "\n",
        "1Mpc $= 10^6$ pc\n",
        "\n",
        "1 year $= 3.2 \\times 10^7$ seconds"
      ],
      "metadata": {
        "id": "Pg3IzFfa4sbZ"
      }
    }
  ]
}